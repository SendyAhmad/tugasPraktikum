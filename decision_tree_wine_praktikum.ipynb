{
 "cells": [
  {
   "cell_type": "markdown",
   "id": "201a949e",
   "metadata": {},
   "source": [
    "\n",
    "# Praktikum Machine Learning - Decision Tree dengan Dataset Wine\n",
    "\n",
    "Notebook ini berisi implementasi model Decision Tree untuk klasifikasi menggunakan dataset Wine dari `sklearn.datasets`. \n",
    "Langkah-langkah mencakup:\n",
    "- Load dan eksplorasi data\n",
    "- Visualisasi\n",
    "- Pemisahan data (training dan testing)\n",
    "- Pelatihan model\n",
    "- Evaluasi model\n",
    "- Visualisasi decision tree\n",
    "- Uji coba prediksi data baru\n"
   ]
  },
  {
   "cell_type": "code",
   "execution_count": null,
   "id": "6e13c57b",
   "metadata": {},
   "outputs": [],
   "source": [
    "\n",
    "from sklearn import datasets\n",
    "import pandas as pd\n",
    "import numpy as np\n",
    "import matplotlib.pyplot as plt\n",
    "import seaborn as sns\n"
   ]
  },
  {
   "cell_type": "code",
   "execution_count": null,
   "id": "b9a53bf3",
   "metadata": {},
   "outputs": [],
   "source": [
    "\n",
    "def sklearn_to_df(sklearn_dataset):\n",
    "    df = pd.DataFrame(sklearn_dataset.data, columns=sklearn_dataset.feature_names)\n",
    "    df['target'] = pd.Series(sklearn_dataset.target)\n",
    "    return df\n",
    "\n",
    "wine = sklearn_to_df(datasets.load_wine())\n",
    "wine.rename(columns={'target': 'class'}, inplace=True)\n",
    "wine.describe().T\n"
   ]
  },
  {
   "cell_type": "code",
   "execution_count": null,
   "id": "825bb8c1",
   "metadata": {},
   "outputs": [],
   "source": [
    "wine.head(10)"
   ]
  },
  {
   "cell_type": "code",
   "execution_count": null,
   "id": "20146891",
   "metadata": {},
   "outputs": [],
   "source": [
    "\n",
    "sns.pairplot(wine, hue='class', palette='Set2')\n",
    "plt.show()\n"
   ]
  },
  {
   "cell_type": "code",
   "execution_count": null,
   "id": "a2e57684",
   "metadata": {},
   "outputs": [],
   "source": [
    "\n",
    "from sklearn.model_selection import train_test_split\n",
    "\n",
    "x = wine.drop('class', axis=1)\n",
    "y = wine['class']\n",
    "\n",
    "x_train, x_test, y_train, y_test = train_test_split(x, y, test_size=0.3, random_state=42)\n"
   ]
  },
  {
   "cell_type": "code",
   "execution_count": null,
   "id": "70738250",
   "metadata": {},
   "outputs": [],
   "source": [
    "\n",
    "from sklearn.tree import DecisionTreeClassifier\n",
    "\n",
    "model = DecisionTreeClassifier(random_state=42)\n",
    "model.fit(x_train, y_train)\n"
   ]
  },
  {
   "cell_type": "code",
   "execution_count": null,
   "id": "10de2497",
   "metadata": {},
   "outputs": [],
   "source": [
    "\n",
    "from sklearn.metrics import classification_report\n",
    "\n",
    "y_pred = model.predict(x_test)\n",
    "print(classification_report(y_test, y_pred))\n"
   ]
  },
  {
   "cell_type": "code",
   "execution_count": null,
   "id": "5ff617dc",
   "metadata": {},
   "outputs": [],
   "source": [
    "\n",
    "from sklearn.metrics import confusion_matrix\n",
    "\n",
    "cm = confusion_matrix(y_test, y_pred)\n",
    "fig, ax = plt.subplots(figsize=(7,7))\n",
    "sns.heatmap(cm, annot=True, fmt='d', cmap='Blues')\n",
    "plt.xlabel('Predicted')\n",
    "plt.ylabel('Actual')\n",
    "plt.title('Confusion Matrix')\n",
    "plt.show()\n"
   ]
  },
  {
   "cell_type": "code",
   "execution_count": null,
   "id": "9390410b",
   "metadata": {},
   "outputs": [],
   "source": [
    "\n",
    "from sklearn import tree\n",
    "\n",
    "fig, ax = plt.subplots(figsize=(25,15))\n",
    "tree.plot_tree(model, feature_names=wine.columns[:-1], class_names=True, filled=True)\n",
    "plt.show()\n"
   ]
  },
  {
   "cell_type": "code",
   "execution_count": null,
   "id": "8c994601",
   "metadata": {},
   "outputs": [],
   "source": [
    "\n",
    "wine_test_data = {\n",
    "    'alcohol': 13.2,\n",
    "    'malic_acid': 1.78,\n",
    "    'ash': 2.14,\n",
    "    'alcalinity_of_ash': 11.2,\n",
    "    'magnesium': 100,\n",
    "    'total_phenols': 2.5,\n",
    "    'flavanoids': 2.7,\n",
    "    'nonflavanoid_phenols': 0.3,\n",
    "    'proanthocyanins': 1.4,\n",
    "    'color_intensity': 5.2,\n",
    "    'hue': 1.05,\n",
    "    'od280/od315_of_diluted_wines': 3.0,\n",
    "    'proline': 1050\n",
    "}\n",
    "\n",
    "feature_order = x.columns.tolist()\n",
    "prediction_input_df = pd.DataFrame([wine_test_data])\n",
    "prediction = model.predict(prediction_input_df[feature_order])\n",
    "print(\"Predicted class:\", prediction)\n"
   ]
  }
 ],
 "metadata": {},
 "nbformat": 4,
 "nbformat_minor": 5
}
